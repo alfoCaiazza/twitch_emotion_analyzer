{
 "cells": [
  {
   "cell_type": "code",
   "execution_count": 1,
   "metadata": {},
   "outputs": [],
   "source": [
    "import tensorflow as tf\n",
    "from tensorflow.keras import layers, models\n",
    "import pandas as pd\n",
    "import numpy as np\n",
    "from sklearn.metrics import accuracy_score, precision_score, recall_score, f1_score\n",
    "from sklearn.model_selection import train_test_split"
   ]
  },
  {
   "cell_type": "code",
   "execution_count": 2,
   "metadata": {},
   "outputs": [],
   "source": [
    "#Loading dataset\n",
    "data = pd.read_csv('fer2013.csv')\n",
    "pixels = data['pixels'].tolist()\n",
    "\n",
    "# Pre-processing: each pixels array is processed into a numpy array and added to the set\n",
    "X = []\n",
    "for pixel_sequence in pixels:\n",
    "    face = [int(pixel) for pixel in pixel_sequence.split(' ')]\n",
    "    face = np.asarray(face).reshape(48, 48)\n",
    "    face = np.expand_dims(face, axis=-1)\n",
    "    X.append(face)\n",
    "\n",
    "X = np.asarray(X)\n",
    "X = X.astype('float32')\n",
    "X /= 255.0  # Normlization [0,1]\n",
    "\n",
    "# Getting the predicted labeles from the set\n",
    "y = pd.get_dummies(data['emotion']).values  # One-hot encoding\n",
    "\n",
    "# Divisione in train e test set\n",
    "X_train, X_test, y_train, y_test = train_test_split(X, y, test_size=0.2, random_state=42)\n"
   ]
  },
  {
   "cell_type": "code",
   "execution_count": 3,
   "metadata": {},
   "outputs": [
    {
     "name": "stderr",
     "output_type": "stream",
     "text": [
      "c:\\Users\\acaia\\anaconda3\\envs\\first_env\\lib\\site-packages\\keras\\src\\layers\\convolutional\\base_conv.py:107: UserWarning: Do not pass an `input_shape`/`input_dim` argument to a layer. When using Sequential models, prefer using an `Input(shape)` object as the first layer in the model instead.\n",
      "  super().__init__(activity_regularizer=activity_regularizer, **kwargs)\n"
     ]
    }
   ],
   "source": [
    "#CNN model\n",
    "#Sequential() --> stack of linear layer with one input and one output\n",
    "model = tf.keras.models.Sequential([\n",
    "    #Conv2D() conv levev with (num of filters, dim of filters, activate function, input shape --> 48X48 gray scale)\n",
    "    tf.keras.layers.Conv2D(64, (3, 3), activation='relu', input_shape=(48, 48, 1)),\n",
    "    #MaxPooling2D() reducing the spacial dimension of the output (info preserved)\n",
    "    tf.keras.layers.MaxPooling2D((2, 2)),\n",
    "    tf.keras.layers.Conv2D(128, (3, 3), activation='relu'),\n",
    "    tf.keras.layers.MaxPooling2D((2, 2)),\n",
    "    tf.keras.layers.Conv2D(512, (3, 3), activation='relu'),\n",
    "    tf.keras.layers.MaxPooling2D((2, 2)),\n",
    "    # Flatten() the 2D matrix of pixel is flattened into a 1D vector\n",
    "    tf.keras.layers.Flatten(),\n",
    "    #Dense(n, act) level denselt connected with n neuron with activation function act\n",
    "    tf.keras.layers.Dense(256, activation='relu'),\n",
    "    #Dropout(perc) used to prevent overfitting: it turn off casually perc neurons\n",
    "    tf.keras.layers.Dropout(0.5),\n",
    "    tf.keras.layers.Dense(7, activation='softmax')\n",
    "])\n",
    "\n",
    "model.compile(optimizer='adam', loss='categorical_crossentropy', metrics=['accuracy'])"
   ]
  },
  {
   "cell_type": "code",
   "execution_count": 4,
   "metadata": {},
   "outputs": [
    {
     "name": "stdout",
     "output_type": "stream",
     "text": [
      "Epoch 1/60\n",
      "\u001b[1m449/449\u001b[0m \u001b[32m━━━━━━━━━━━━━━━━━━━━\u001b[0m\u001b[37m\u001b[0m \u001b[1m49s\u001b[0m 107ms/step - accuracy: 0.2516 - loss: 1.8019 - val_accuracy: 0.3975 - val_loss: 1.5373\n",
      "Epoch 2/60\n",
      "\u001b[1m449/449\u001b[0m \u001b[32m━━━━━━━━━━━━━━━━━━━━\u001b[0m\u001b[37m\u001b[0m \u001b[1m47s\u001b[0m 104ms/step - accuracy: 0.4151 - loss: 1.5107 - val_accuracy: 0.4709 - val_loss: 1.3736\n",
      "Epoch 3/60\n",
      "\u001b[1m449/449\u001b[0m \u001b[32m━━━━━━━━━━━━━━━━━━━━\u001b[0m\u001b[37m\u001b[0m \u001b[1m47s\u001b[0m 104ms/step - accuracy: 0.4830 - loss: 1.3541 - val_accuracy: 0.5017 - val_loss: 1.3167\n",
      "Epoch 4/60\n",
      "\u001b[1m449/449\u001b[0m \u001b[32m━━━━━━━━━━━━━━━━━━━━\u001b[0m\u001b[37m\u001b[0m \u001b[1m47s\u001b[0m 105ms/step - accuracy: 0.5177 - loss: 1.2666 - val_accuracy: 0.5391 - val_loss: 1.2219\n",
      "Epoch 5/60\n",
      "\u001b[1m449/449\u001b[0m \u001b[32m━━━━━━━━━━━━━━━━━━━━\u001b[0m\u001b[37m\u001b[0m \u001b[1m48s\u001b[0m 106ms/step - accuracy: 0.5505 - loss: 1.1888 - val_accuracy: 0.5390 - val_loss: 1.2212\n",
      "Epoch 6/60\n",
      "\u001b[1m449/449\u001b[0m \u001b[32m━━━━━━━━━━━━━━━━━━━━\u001b[0m\u001b[37m\u001b[0m \u001b[1m52s\u001b[0m 115ms/step - accuracy: 0.5656 - loss: 1.1400 - val_accuracy: 0.5529 - val_loss: 1.1809\n",
      "Epoch 7/60\n",
      "\u001b[1m449/449\u001b[0m \u001b[32m━━━━━━━━━━━━━━━━━━━━\u001b[0m\u001b[37m\u001b[0m \u001b[1m50s\u001b[0m 112ms/step - accuracy: 0.5965 - loss: 1.0656 - val_accuracy: 0.5593 - val_loss: 1.1813\n",
      "Epoch 8/60\n",
      "\u001b[1m449/449\u001b[0m \u001b[32m━━━━━━━━━━━━━━━━━━━━\u001b[0m\u001b[37m\u001b[0m \u001b[1m49s\u001b[0m 108ms/step - accuracy: 0.6166 - loss: 1.0065 - val_accuracy: 0.5660 - val_loss: 1.1520\n",
      "Epoch 9/60\n",
      "\u001b[1m449/449\u001b[0m \u001b[32m━━━━━━━━━━━━━━━━━━━━\u001b[0m\u001b[37m\u001b[0m \u001b[1m49s\u001b[0m 109ms/step - accuracy: 0.6456 - loss: 0.9431 - val_accuracy: 0.5698 - val_loss: 1.1720\n",
      "Epoch 10/60\n",
      "\u001b[1m449/449\u001b[0m \u001b[32m━━━━━━━━━━━━━━━━━━━━\u001b[0m\u001b[37m\u001b[0m \u001b[1m48s\u001b[0m 107ms/step - accuracy: 0.6591 - loss: 0.8978 - val_accuracy: 0.5765 - val_loss: 1.1421\n",
      "Epoch 11/60\n",
      "\u001b[1m449/449\u001b[0m \u001b[32m━━━━━━━━━━━━━━━━━━━━\u001b[0m\u001b[37m\u001b[0m \u001b[1m47s\u001b[0m 104ms/step - accuracy: 0.6913 - loss: 0.8257 - val_accuracy: 0.5777 - val_loss: 1.1677\n",
      "Epoch 12/60\n",
      "\u001b[1m449/449\u001b[0m \u001b[32m━━━━━━━━━━━━━━━━━━━━\u001b[0m\u001b[37m\u001b[0m \u001b[1m47s\u001b[0m 105ms/step - accuracy: 0.7100 - loss: 0.7699 - val_accuracy: 0.5780 - val_loss: 1.2172\n",
      "Epoch 13/60\n",
      "\u001b[1m449/449\u001b[0m \u001b[32m━━━━━━━━━━━━━━━━━━━━\u001b[0m\u001b[37m\u001b[0m \u001b[1m47s\u001b[0m 106ms/step - accuracy: 0.7301 - loss: 0.7123 - val_accuracy: 0.5808 - val_loss: 1.3048\n",
      "Epoch 14/60\n",
      "\u001b[1m449/449\u001b[0m \u001b[32m━━━━━━━━━━━━━━━━━━━━\u001b[0m\u001b[37m\u001b[0m \u001b[1m47s\u001b[0m 105ms/step - accuracy: 0.7412 - loss: 0.6717 - val_accuracy: 0.5652 - val_loss: 1.3499\n",
      "Epoch 15/60\n",
      "\u001b[1m449/449\u001b[0m \u001b[32m━━━━━━━━━━━━━━━━━━━━\u001b[0m\u001b[37m\u001b[0m \u001b[1m47s\u001b[0m 105ms/step - accuracy: 0.7747 - loss: 0.6067 - val_accuracy: 0.5688 - val_loss: 1.3721\n",
      "Epoch 16/60\n",
      "\u001b[1m449/449\u001b[0m \u001b[32m━━━━━━━━━━━━━━━━━━━━\u001b[0m\u001b[37m\u001b[0m \u001b[1m47s\u001b[0m 105ms/step - accuracy: 0.7860 - loss: 0.5694 - val_accuracy: 0.5790 - val_loss: 1.3790\n",
      "Epoch 17/60\n",
      "\u001b[1m449/449\u001b[0m \u001b[32m━━━━━━━━━━━━━━━━━━━━\u001b[0m\u001b[37m\u001b[0m \u001b[1m47s\u001b[0m 105ms/step - accuracy: 0.8026 - loss: 0.5239 - val_accuracy: 0.5836 - val_loss: 1.5061\n",
      "Epoch 18/60\n",
      "\u001b[1m449/449\u001b[0m \u001b[32m━━━━━━━━━━━━━━━━━━━━\u001b[0m\u001b[37m\u001b[0m \u001b[1m47s\u001b[0m 105ms/step - accuracy: 0.8131 - loss: 0.4936 - val_accuracy: 0.5797 - val_loss: 1.5388\n",
      "Epoch 19/60\n",
      "\u001b[1m449/449\u001b[0m \u001b[32m━━━━━━━━━━━━━━━━━━━━\u001b[0m\u001b[37m\u001b[0m \u001b[1m47s\u001b[0m 105ms/step - accuracy: 0.8188 - loss: 0.4655 - val_accuracy: 0.5804 - val_loss: 1.6017\n",
      "Epoch 20/60\n",
      "\u001b[1m449/449\u001b[0m \u001b[32m━━━━━━━━━━━━━━━━━━━━\u001b[0m\u001b[37m\u001b[0m \u001b[1m47s\u001b[0m 105ms/step - accuracy: 0.8354 - loss: 0.4274 - val_accuracy: 0.5830 - val_loss: 1.6557\n",
      "Epoch 21/60\n",
      "\u001b[1m449/449\u001b[0m \u001b[32m━━━━━━━━━━━━━━━━━━━━\u001b[0m\u001b[37m\u001b[0m \u001b[1m47s\u001b[0m 105ms/step - accuracy: 0.8440 - loss: 0.4061 - val_accuracy: 0.5754 - val_loss: 1.7459\n",
      "Epoch 22/60\n",
      "\u001b[1m449/449\u001b[0m \u001b[32m━━━━━━━━━━━━━━━━━━━━\u001b[0m\u001b[37m\u001b[0m \u001b[1m47s\u001b[0m 104ms/step - accuracy: 0.8492 - loss: 0.3987 - val_accuracy: 0.5782 - val_loss: 1.8424\n",
      "Epoch 23/60\n",
      "\u001b[1m449/449\u001b[0m \u001b[32m━━━━━━━━━━━━━━━━━━━━\u001b[0m\u001b[37m\u001b[0m \u001b[1m47s\u001b[0m 105ms/step - accuracy: 0.8585 - loss: 0.3658 - val_accuracy: 0.5744 - val_loss: 1.8224\n",
      "Epoch 24/60\n",
      "\u001b[1m449/449\u001b[0m \u001b[32m━━━━━━━━━━━━━━━━━━━━\u001b[0m\u001b[37m\u001b[0m \u001b[1m48s\u001b[0m 108ms/step - accuracy: 0.8595 - loss: 0.3598 - val_accuracy: 0.5782 - val_loss: 1.9895\n",
      "Epoch 25/60\n",
      "\u001b[1m449/449\u001b[0m \u001b[32m━━━━━━━━━━━━━━━━━━━━\u001b[0m\u001b[37m\u001b[0m \u001b[1m49s\u001b[0m 109ms/step - accuracy: 0.8728 - loss: 0.3318 - val_accuracy: 0.5832 - val_loss: 1.9950\n",
      "Epoch 26/60\n",
      "\u001b[1m449/449\u001b[0m \u001b[32m━━━━━━━━━━━━━━━━━━━━\u001b[0m\u001b[37m\u001b[0m \u001b[1m47s\u001b[0m 105ms/step - accuracy: 0.8759 - loss: 0.3186 - val_accuracy: 0.5719 - val_loss: 2.1728\n",
      "Epoch 27/60\n",
      "\u001b[1m449/449\u001b[0m \u001b[32m━━━━━━━━━━━━━━━━━━━━\u001b[0m\u001b[37m\u001b[0m \u001b[1m47s\u001b[0m 104ms/step - accuracy: 0.8815 - loss: 0.3111 - val_accuracy: 0.5755 - val_loss: 2.1319\n",
      "Epoch 28/60\n",
      "\u001b[1m449/449\u001b[0m \u001b[32m━━━━━━━━━━━━━━━━━━━━\u001b[0m\u001b[37m\u001b[0m \u001b[1m47s\u001b[0m 104ms/step - accuracy: 0.8854 - loss: 0.2962 - val_accuracy: 0.5759 - val_loss: 2.2093\n",
      "Epoch 29/60\n",
      "\u001b[1m449/449\u001b[0m \u001b[32m━━━━━━━━━━━━━━━━━━━━\u001b[0m\u001b[37m\u001b[0m \u001b[1m47s\u001b[0m 106ms/step - accuracy: 0.8892 - loss: 0.2876 - val_accuracy: 0.5818 - val_loss: 2.3234\n",
      "Epoch 30/60\n",
      "\u001b[1m449/449\u001b[0m \u001b[32m━━━━━━━━━━━━━━━━━━━━\u001b[0m\u001b[37m\u001b[0m \u001b[1m48s\u001b[0m 107ms/step - accuracy: 0.8943 - loss: 0.2757 - val_accuracy: 0.5736 - val_loss: 2.2796\n",
      "Epoch 31/60\n",
      "\u001b[1m449/449\u001b[0m \u001b[32m━━━━━━━━━━━━━━━━━━━━\u001b[0m\u001b[37m\u001b[0m \u001b[1m48s\u001b[0m 108ms/step - accuracy: 0.8934 - loss: 0.2708 - val_accuracy: 0.5800 - val_loss: 2.4230\n",
      "Epoch 32/60\n",
      "\u001b[1m449/449\u001b[0m \u001b[32m━━━━━━━━━━━━━━━━━━━━\u001b[0m\u001b[37m\u001b[0m \u001b[1m48s\u001b[0m 107ms/step - accuracy: 0.8940 - loss: 0.2666 - val_accuracy: 0.5727 - val_loss: 2.5865\n",
      "Epoch 33/60\n",
      "\u001b[1m449/449\u001b[0m \u001b[32m━━━━━━━━━━━━━━━━━━━━\u001b[0m\u001b[37m\u001b[0m \u001b[1m50s\u001b[0m 112ms/step - accuracy: 0.9004 - loss: 0.2557 - val_accuracy: 0.5759 - val_loss: 2.6265\n",
      "Epoch 34/60\n",
      "\u001b[1m449/449\u001b[0m \u001b[32m━━━━━━━━━━━━━━━━━━━━\u001b[0m\u001b[37m\u001b[0m \u001b[1m49s\u001b[0m 108ms/step - accuracy: 0.8997 - loss: 0.2565 - val_accuracy: 0.5844 - val_loss: 2.5929\n",
      "Epoch 35/60\n",
      "\u001b[1m449/449\u001b[0m \u001b[32m━━━━━━━━━━━━━━━━━━━━\u001b[0m\u001b[37m\u001b[0m \u001b[1m47s\u001b[0m 105ms/step - accuracy: 0.9044 - loss: 0.2443 - val_accuracy: 0.5769 - val_loss: 2.6933\n",
      "Epoch 36/60\n",
      "\u001b[1m449/449\u001b[0m \u001b[32m━━━━━━━━━━━━━━━━━━━━\u001b[0m\u001b[37m\u001b[0m \u001b[1m47s\u001b[0m 105ms/step - accuracy: 0.9058 - loss: 0.2400 - val_accuracy: 0.5808 - val_loss: 2.7263\n",
      "Epoch 37/60\n",
      "\u001b[1m449/449\u001b[0m \u001b[32m━━━━━━━━━━━━━━━━━━━━\u001b[0m\u001b[37m\u001b[0m \u001b[1m47s\u001b[0m 105ms/step - accuracy: 0.9121 - loss: 0.2294 - val_accuracy: 0.5759 - val_loss: 2.8131\n",
      "Epoch 38/60\n",
      "\u001b[1m449/449\u001b[0m \u001b[32m━━━━━━━━━━━━━━━━━━━━\u001b[0m\u001b[37m\u001b[0m \u001b[1m47s\u001b[0m 105ms/step - accuracy: 0.9117 - loss: 0.2264 - val_accuracy: 0.5758 - val_loss: 2.8291\n",
      "Epoch 39/60\n",
      "\u001b[1m449/449\u001b[0m \u001b[32m━━━━━━━━━━━━━━━━━━━━\u001b[0m\u001b[37m\u001b[0m \u001b[1m47s\u001b[0m 105ms/step - accuracy: 0.9088 - loss: 0.2309 - val_accuracy: 0.5750 - val_loss: 2.6000\n",
      "Epoch 40/60\n",
      "\u001b[1m449/449\u001b[0m \u001b[32m━━━━━━━━━━━━━━━━━━━━\u001b[0m\u001b[37m\u001b[0m \u001b[1m47s\u001b[0m 104ms/step - accuracy: 0.9145 - loss: 0.2227 - val_accuracy: 0.5793 - val_loss: 2.7959\n",
      "Epoch 41/60\n",
      "\u001b[1m449/449\u001b[0m \u001b[32m━━━━━━━━━━━━━━━━━━━━\u001b[0m\u001b[37m\u001b[0m \u001b[1m47s\u001b[0m 104ms/step - accuracy: 0.9139 - loss: 0.2280 - val_accuracy: 0.5819 - val_loss: 2.8572\n",
      "Epoch 42/60\n",
      "\u001b[1m449/449\u001b[0m \u001b[32m━━━━━━━━━━━━━━━━━━━━\u001b[0m\u001b[37m\u001b[0m \u001b[1m47s\u001b[0m 105ms/step - accuracy: 0.9169 - loss: 0.2135 - val_accuracy: 0.5854 - val_loss: 2.8345\n",
      "Epoch 43/60\n",
      "\u001b[1m449/449\u001b[0m \u001b[32m━━━━━━━━━━━━━━━━━━━━\u001b[0m\u001b[37m\u001b[0m \u001b[1m47s\u001b[0m 105ms/step - accuracy: 0.9156 - loss: 0.2164 - val_accuracy: 0.5795 - val_loss: 2.9385\n",
      "Epoch 44/60\n",
      "\u001b[1m449/449\u001b[0m \u001b[32m━━━━━━━━━━━━━━━━━━━━\u001b[0m\u001b[37m\u001b[0m \u001b[1m47s\u001b[0m 106ms/step - accuracy: 0.9187 - loss: 0.2091 - val_accuracy: 0.5751 - val_loss: 2.9564\n",
      "Epoch 45/60\n",
      "\u001b[1m449/449\u001b[0m \u001b[32m━━━━━━━━━━━━━━━━━━━━\u001b[0m\u001b[37m\u001b[0m \u001b[1m48s\u001b[0m 107ms/step - accuracy: 0.9232 - loss: 0.1963 - val_accuracy: 0.5695 - val_loss: 2.9453\n",
      "Epoch 46/60\n",
      "\u001b[1m449/449\u001b[0m \u001b[32m━━━━━━━━━━━━━━━━━━━━\u001b[0m\u001b[37m\u001b[0m \u001b[1m47s\u001b[0m 105ms/step - accuracy: 0.9209 - loss: 0.1997 - val_accuracy: 0.5737 - val_loss: 3.2747\n",
      "Epoch 47/60\n",
      "\u001b[1m449/449\u001b[0m \u001b[32m━━━━━━━━━━━━━━━━━━━━\u001b[0m\u001b[37m\u001b[0m \u001b[1m49s\u001b[0m 110ms/step - accuracy: 0.9237 - loss: 0.1910 - val_accuracy: 0.5782 - val_loss: 3.2510\n",
      "Epoch 48/60\n",
      "\u001b[1m449/449\u001b[0m \u001b[32m━━━━━━━━━━━━━━━━━━━━\u001b[0m\u001b[37m\u001b[0m \u001b[1m48s\u001b[0m 106ms/step - accuracy: 0.9240 - loss: 0.1958 - val_accuracy: 0.5730 - val_loss: 3.1100\n",
      "Epoch 49/60\n",
      "\u001b[1m449/449\u001b[0m \u001b[32m━━━━━━━━━━━━━━━━━━━━\u001b[0m\u001b[37m\u001b[0m \u001b[1m47s\u001b[0m 105ms/step - accuracy: 0.9259 - loss: 0.1928 - val_accuracy: 0.5763 - val_loss: 3.2135\n",
      "Epoch 50/60\n",
      "\u001b[1m449/449\u001b[0m \u001b[32m━━━━━━━━━━━━━━━━━━━━\u001b[0m\u001b[37m\u001b[0m \u001b[1m48s\u001b[0m 107ms/step - accuracy: 0.9239 - loss: 0.1932 - val_accuracy: 0.5756 - val_loss: 3.0279\n",
      "Epoch 51/60\n",
      "\u001b[1m449/449\u001b[0m \u001b[32m━━━━━━━━━━━━━━━━━━━━\u001b[0m\u001b[37m\u001b[0m \u001b[1m49s\u001b[0m 109ms/step - accuracy: 0.9297 - loss: 0.1823 - val_accuracy: 0.5730 - val_loss: 3.2480\n",
      "Epoch 52/60\n",
      "\u001b[1m449/449\u001b[0m \u001b[32m━━━━━━━━━━━━━━━━━━━━\u001b[0m\u001b[37m\u001b[0m \u001b[1m49s\u001b[0m 108ms/step - accuracy: 0.9260 - loss: 0.1960 - val_accuracy: 0.5744 - val_loss: 3.3059\n",
      "Epoch 53/60\n",
      "\u001b[1m449/449\u001b[0m \u001b[32m━━━━━━━━━━━━━━━━━━━━\u001b[0m\u001b[37m\u001b[0m \u001b[1m49s\u001b[0m 109ms/step - accuracy: 0.9304 - loss: 0.1794 - val_accuracy: 0.5722 - val_loss: 3.2774\n",
      "Epoch 54/60\n",
      "\u001b[1m449/449\u001b[0m \u001b[32m━━━━━━━━━━━━━━━━━━━━\u001b[0m\u001b[37m\u001b[0m \u001b[1m52s\u001b[0m 115ms/step - accuracy: 0.9314 - loss: 0.1746 - val_accuracy: 0.5727 - val_loss: 3.1053\n",
      "Epoch 55/60\n",
      "\u001b[1m449/449\u001b[0m \u001b[32m━━━━━━━━━━━━━━━━━━━━\u001b[0m\u001b[37m\u001b[0m \u001b[1m51s\u001b[0m 114ms/step - accuracy: 0.9276 - loss: 0.1846 - val_accuracy: 0.5782 - val_loss: 3.4335\n",
      "Epoch 56/60\n",
      "\u001b[1m449/449\u001b[0m \u001b[32m━━━━━━━━━━━━━━━━━━━━\u001b[0m\u001b[37m\u001b[0m \u001b[1m52s\u001b[0m 115ms/step - accuracy: 0.9298 - loss: 0.1821 - val_accuracy: 0.5702 - val_loss: 3.4706\n",
      "Epoch 57/60\n",
      "\u001b[1m449/449\u001b[0m \u001b[32m━━━━━━━━━━━━━━━━━━━━\u001b[0m\u001b[37m\u001b[0m \u001b[1m51s\u001b[0m 114ms/step - accuracy: 0.9352 - loss: 0.1725 - val_accuracy: 0.5726 - val_loss: 3.3876\n",
      "Epoch 58/60\n",
      "\u001b[1m449/449\u001b[0m \u001b[32m━━━━━━━━━━━━━━━━━━━━\u001b[0m\u001b[37m\u001b[0m \u001b[1m51s\u001b[0m 114ms/step - accuracy: 0.9374 - loss: 0.1693 - val_accuracy: 0.5769 - val_loss: 3.3850\n",
      "Epoch 59/60\n",
      "\u001b[1m449/449\u001b[0m \u001b[32m━━━━━━━━━━━━━━━━━━━━\u001b[0m\u001b[37m\u001b[0m \u001b[1m52s\u001b[0m 116ms/step - accuracy: 0.9366 - loss: 0.1652 - val_accuracy: 0.5761 - val_loss: 3.2562\n",
      "Epoch 60/60\n",
      "\u001b[1m449/449\u001b[0m \u001b[32m━━━━━━━━━━━━━━━━━━━━\u001b[0m\u001b[37m\u001b[0m \u001b[1m51s\u001b[0m 113ms/step - accuracy: 0.9316 - loss: 0.1763 - val_accuracy: 0.5712 - val_loss: 3.4803\n"
     ]
    }
   ],
   "source": [
    "#Fitting the model\n",
    "history = model.fit(X_train, y_train, epochs=60, batch_size=64, validation_data=(X_test, y_test))"
   ]
  },
  {
   "cell_type": "code",
   "execution_count": 5,
   "metadata": {},
   "outputs": [
    {
     "name": "stdout",
     "output_type": "stream",
     "text": [
      "\u001b[1m225/225\u001b[0m \u001b[32m━━━━━━━━━━━━━━━━━━━━\u001b[0m\u001b[37m\u001b[0m \u001b[1m4s\u001b[0m 18ms/step\n",
      "Accuracy: 0.5711897464474784\n",
      "Precision: 0.5705591356168144\n",
      "Recall: 0.5711897464474784\n",
      "F1 Score: 0.569442013230663\n"
     ]
    }
   ],
   "source": [
    "#Testing\n",
    "y_pred = model.predict(X_test)\n",
    "y_pred_classes = np.argmax(y_pred, axis=1)\n",
    "y_true_classes = np.argmax(y_test, axis=1)\n",
    "\n",
    "#Metrics calculation\n",
    "accuracy = accuracy_score(y_true_classes, y_pred_classes)\n",
    "precision = precision_score(y_true_classes, y_pred_classes, average='weighted')\n",
    "recall = recall_score(y_true_classes, y_pred_classes, average='weighted')\n",
    "f1 = f1_score(y_true_classes, y_pred_classes, average='weighted')\n",
    "\n",
    "print(f\"Accuracy: {accuracy}\")\n",
    "print(f\"Precision: {precision}\")\n",
    "print(f\"Recall: {recall}\")\n",
    "print(f\"F1 Score: {f1}\")"
   ]
  },
  {
   "cell_type": "code",
   "execution_count": 6,
   "metadata": {},
   "outputs": [
    {
     "name": "stderr",
     "output_type": "stream",
     "text": [
      "WARNING:absl:You are saving your model as an HDF5 file via `model.save()` or `keras.saving.save_model(model)`. This file format is considered legacy. We recommend using instead the native Keras format, e.g. `model.save('my_model.keras')` or `keras.saving.save_model(model, 'my_model.keras')`. \n"
     ]
    }
   ],
   "source": [
    "model.save('cnn_FER2013.h5')"
   ]
  }
 ],
 "metadata": {
  "kernelspec": {
   "display_name": "first_env",
   "language": "python",
   "name": "python3"
  },
  "language_info": {
   "codemirror_mode": {
    "name": "ipython",
    "version": 3
   },
   "file_extension": ".py",
   "mimetype": "text/x-python",
   "name": "python",
   "nbconvert_exporter": "python",
   "pygments_lexer": "ipython3",
   "version": "3.10.13"
  }
 },
 "nbformat": 4,
 "nbformat_minor": 2
}
