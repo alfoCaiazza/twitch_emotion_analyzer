{
 "cells": [
  {
   "cell_type": "code",
   "execution_count": 7,
   "metadata": {},
   "outputs": [],
   "source": [
    "import tensorflow as tf\n",
    "from tensorflow.keras import layers, models"
   ]
  },
  {
   "cell_type": "code",
   "execution_count": 8,
   "metadata": {},
   "outputs": [],
   "source": [
    "import pandas as pd\n",
    "import numpy as np\n",
    "\n",
    "# Carica il dataset\n",
    "data = pd.read_csv('fer2013.csv')\n",
    "pixels = data['pixels'].tolist()\n",
    "\n",
    "# Pre-elaborazione delle immagini\n",
    "X = []\n",
    "for pixel_sequence in pixels:\n",
    "    face = [int(pixel) for pixel in pixel_sequence.split(' ')]\n",
    "    face = np.asarray(face).reshape(48, 48)\n",
    "    face = np.expand_dims(face, axis=-1)  # necessario per il modello Keras\n",
    "    X.append(face)\n",
    "\n",
    "X = np.asarray(X)\n",
    "X = X.astype('float32')\n",
    "X /= 255.0  # Normalizzazione\n",
    "\n",
    "# Etichette\n",
    "y = pd.get_dummies(data['emotion']).values  # One-hot encoding delle etichette\n",
    "\n",
    "# Divisione in train e test set\n",
    "from sklearn.model_selection import train_test_split\n",
    "X_train, X_test, y_train, y_test = train_test_split(X, y, test_size=0.2, random_state=42)\n"
   ]
  },
  {
   "cell_type": "code",
   "execution_count": 9,
   "metadata": {},
   "outputs": [
    {
     "name": "stderr",
     "output_type": "stream",
     "text": [
      "c:\\Users\\acaia\\anaconda3\\envs\\first_env\\lib\\site-packages\\keras\\src\\layers\\convolutional\\base_conv.py:107: UserWarning: Do not pass an `input_shape`/`input_dim` argument to a layer. When using Sequential models, prefer using an `Input(shape)` object as the first layer in the model instead.\n",
      "  super().__init__(activity_regularizer=activity_regularizer, **kwargs)\n"
     ]
    }
   ],
   "source": [
    "model = tf.keras.models.Sequential([\n",
    "    tf.keras.layers.Conv2D(64, (3, 3), activation='relu', input_shape=(48, 48, 1)),\n",
    "    tf.keras.layers.MaxPooling2D((2, 2)),\n",
    "    tf.keras.layers.Conv2D(128, (3, 3), activation='relu'),\n",
    "    tf.keras.layers.MaxPooling2D((2, 2)),\n",
    "    tf.keras.layers.Conv2D(512, (3, 3), activation='relu'),\n",
    "    tf.keras.layers.MaxPooling2D((2, 2)),\n",
    "    tf.keras.layers.Flatten(),\n",
    "    tf.keras.layers.Dense(256, activation='relu'),\n",
    "    tf.keras.layers.Dropout(0.5),\n",
    "    tf.keras.layers.Dense(7, activation='softmax')\n",
    "])\n",
    "\n",
    "model.compile(optimizer='adam', loss='categorical_crossentropy', metrics=['accuracy'])"
   ]
  },
  {
   "cell_type": "markdown",
   "metadata": {},
   "source": [
    "\n",
    "# Creating a Sequential model\n",
    "model = tf.keras.models.Sequential([\n",
    "    \n",
    "    # Adding a 2D convolutional layer with 64 filters, each of size 3x3, using ReLU activation function.\n",
    "    # The input shape is specified as (48, 48, 1), meaning 48x48 pixels with a single color channel (grayscale).\n",
    "    tf.keras.layers.Conv2D(64, (3, 3), activation='relu', input_shape=(48, 48, 1)),\n",
    "    \n",
    "    # Adding a 2D max pooling layer with a 2x2 pool size to reduce the spatial dimensions.\n",
    "    tf.keras.layers.MaxPooling2D((2, 2)),\n",
    "    \n",
    "    # Adding another 2D convolutional layer with 128 filters, each of size 3x3, using ReLU activation function.\n",
    "    tf.keras.layers.Conv2D(128, (3, 3), activation='relu'),\n",
    "    \n",
    "    # Adding another 2D max pooling layer with a 2x2 pool size.\n",
    "    tf.keras.layers.MaxPooling2D((2, 2)),\n",
    "    \n",
    "    # Adding another 2D convolutional layer with 512 filters, each of size 3x3, using ReLU activation function.\n",
    "    tf.keras.layers.Conv2D(512, (3, 3), activation='relu'),\n",
    "    \n",
    "    # Adding another 2D max pooling layer with a 2x2 pool size.\n",
    "    tf.keras.layers.MaxPooling2D((2, 2)),\n",
    "    \n",
    "    # Flattening the 3D output to 1D to prepare it for the fully connected layers.\n",
    "    tf.keras.layers.Flatten(),\n",
    "    \n",
    "    # Adding a dense (fully connected) layer with 256 units and ReLU activation function.\n",
    "    tf.keras.layers.Dense(256, activation='relu'),\n",
    "    \n",
    "    # Adding a dropout layer with a rate of 0.5 to reduce overfitting by randomly setting 50% of the inputs to zero.\n",
    "    tf.keras.layers.Dropout(0.5),\n",
    "    \n",
    "    # Adding a dense (fully connected) output layer with 7 units and softmax activation function for classification.\n",
    "    tf.keras.layers.Dense(7, activation='softmax')\n",
    "])\n",
    "\n",
    "# Compiling the model with Adam optimizer, categorical crossentropy loss function, and accuracy as the evaluation metric.\n",
    "model.compile(optimizer='adam', loss='categorical_crossentropy', metrics=['accuracy'])\n"
   ]
  },
  {
   "cell_type": "code",
   "execution_count": 10,
   "metadata": {},
   "outputs": [
    {
     "name": "stdout",
     "output_type": "stream",
     "text": [
      "Epoch 1/50\n",
      "\u001b[1m449/449\u001b[0m \u001b[32m━━━━━━━━━━━━━━━━━━━━\u001b[0m\u001b[37m\u001b[0m \u001b[1m47s\u001b[0m 101ms/step - accuracy: 0.2598 - loss: 1.7959 - val_accuracy: 0.3972 - val_loss: 1.5400\n",
      "Epoch 2/50\n",
      "\u001b[1m449/449\u001b[0m \u001b[32m━━━━━━━━━━━━━━━━━━━━\u001b[0m\u001b[37m\u001b[0m \u001b[1m44s\u001b[0m 97ms/step - accuracy: 0.4108 - loss: 1.5069 - val_accuracy: 0.4850 - val_loss: 1.3565\n",
      "Epoch 3/50\n",
      "\u001b[1m449/449\u001b[0m \u001b[32m━━━━━━━━━━━━━━━━━━━━\u001b[0m\u001b[37m\u001b[0m \u001b[1m45s\u001b[0m 99ms/step - accuracy: 0.4827 - loss: 1.3567 - val_accuracy: 0.5120 - val_loss: 1.2788\n",
      "Epoch 4/50\n",
      "\u001b[1m449/449\u001b[0m \u001b[32m━━━━━━━━━━━━━━━━━━━━\u001b[0m\u001b[37m\u001b[0m \u001b[1m44s\u001b[0m 99ms/step - accuracy: 0.5290 - loss: 1.2522 - val_accuracy: 0.5327 - val_loss: 1.2240\n",
      "Epoch 5/50\n",
      "\u001b[1m449/449\u001b[0m \u001b[32m━━━━━━━━━━━━━━━━━━━━\u001b[0m\u001b[37m\u001b[0m \u001b[1m43s\u001b[0m 96ms/step - accuracy: 0.5452 - loss: 1.1932 - val_accuracy: 0.5380 - val_loss: 1.2136\n",
      "Epoch 6/50\n",
      "\u001b[1m449/449\u001b[0m \u001b[32m━━━━━━━━━━━━━━━━━━━━\u001b[0m\u001b[37m\u001b[0m \u001b[1m43s\u001b[0m 96ms/step - accuracy: 0.5713 - loss: 1.1369 - val_accuracy: 0.5528 - val_loss: 1.1764\n",
      "Epoch 7/50\n",
      "\u001b[1m449/449\u001b[0m \u001b[32m━━━━━━━━━━━━━━━━━━━━\u001b[0m\u001b[37m\u001b[0m \u001b[1m46s\u001b[0m 103ms/step - accuracy: 0.5918 - loss: 1.0767 - val_accuracy: 0.5671 - val_loss: 1.1551\n",
      "Epoch 8/50\n",
      "\u001b[1m449/449\u001b[0m \u001b[32m━━━━━━━━━━━━━━━━━━━━\u001b[0m\u001b[37m\u001b[0m \u001b[1m47s\u001b[0m 105ms/step - accuracy: 0.6190 - loss: 1.0140 - val_accuracy: 0.5663 - val_loss: 1.1700\n",
      "Epoch 9/50\n",
      "\u001b[1m449/449\u001b[0m \u001b[32m━━━━━━━━━━━━━━━━━━━━\u001b[0m\u001b[37m\u001b[0m \u001b[1m44s\u001b[0m 98ms/step - accuracy: 0.6379 - loss: 0.9618 - val_accuracy: 0.5794 - val_loss: 1.1594\n",
      "Epoch 10/50\n",
      "\u001b[1m449/449\u001b[0m \u001b[32m━━━━━━━━━━━━━━━━━━━━\u001b[0m\u001b[37m\u001b[0m \u001b[1m44s\u001b[0m 98ms/step - accuracy: 0.6634 - loss: 0.8912 - val_accuracy: 0.5772 - val_loss: 1.1564\n",
      "Epoch 11/50\n",
      "\u001b[1m449/449\u001b[0m \u001b[32m━━━━━━━━━━━━━━━━━━━━\u001b[0m\u001b[37m\u001b[0m \u001b[1m45s\u001b[0m 99ms/step - accuracy: 0.6798 - loss: 0.8388 - val_accuracy: 0.5789 - val_loss: 1.1894\n",
      "Epoch 12/50\n",
      "\u001b[1m449/449\u001b[0m \u001b[32m━━━━━━━━━━━━━━━━━━━━\u001b[0m\u001b[37m\u001b[0m \u001b[1m45s\u001b[0m 101ms/step - accuracy: 0.7080 - loss: 0.7717 - val_accuracy: 0.5762 - val_loss: 1.2261\n",
      "Epoch 13/50\n",
      "\u001b[1m449/449\u001b[0m \u001b[32m━━━━━━━━━━━━━━━━━━━━\u001b[0m\u001b[37m\u001b[0m \u001b[1m44s\u001b[0m 98ms/step - accuracy: 0.7191 - loss: 0.7397 - val_accuracy: 0.5751 - val_loss: 1.2980\n",
      "Epoch 14/50\n",
      "\u001b[1m449/449\u001b[0m \u001b[32m━━━━━━━━━━━━━━━━━━━━\u001b[0m\u001b[37m\u001b[0m \u001b[1m44s\u001b[0m 98ms/step - accuracy: 0.7384 - loss: 0.6838 - val_accuracy: 0.5744 - val_loss: 1.3091\n",
      "Epoch 15/50\n",
      "\u001b[1m449/449\u001b[0m \u001b[32m━━━━━━━━━━━━━━━━━━━━\u001b[0m\u001b[37m\u001b[0m \u001b[1m44s\u001b[0m 99ms/step - accuracy: 0.7603 - loss: 0.6264 - val_accuracy: 0.5811 - val_loss: 1.3528\n",
      "Epoch 16/50\n",
      "\u001b[1m449/449\u001b[0m \u001b[32m━━━━━━━━━━━━━━━━━━━━\u001b[0m\u001b[37m\u001b[0m \u001b[1m45s\u001b[0m 101ms/step - accuracy: 0.7799 - loss: 0.5864 - val_accuracy: 0.5766 - val_loss: 1.4516\n",
      "Epoch 17/50\n",
      "\u001b[1m449/449\u001b[0m \u001b[32m━━━━━━━━━━━━━━━━━━━━\u001b[0m\u001b[37m\u001b[0m \u001b[1m44s\u001b[0m 97ms/step - accuracy: 0.7899 - loss: 0.5468 - val_accuracy: 0.5775 - val_loss: 1.4806\n",
      "Epoch 18/50\n",
      "\u001b[1m449/449\u001b[0m \u001b[32m━━━━━━━━━━━━━━━━━━━━\u001b[0m\u001b[37m\u001b[0m \u001b[1m43s\u001b[0m 97ms/step - accuracy: 0.8094 - loss: 0.5110 - val_accuracy: 0.5740 - val_loss: 1.5309\n",
      "Epoch 19/50\n",
      "\u001b[1m449/449\u001b[0m \u001b[32m━━━━━━━━━━━━━━━━━━━━\u001b[0m\u001b[37m\u001b[0m \u001b[1m44s\u001b[0m 98ms/step - accuracy: 0.8125 - loss: 0.4774 - val_accuracy: 0.5795 - val_loss: 1.6284\n",
      "Epoch 20/50\n",
      "\u001b[1m449/449\u001b[0m \u001b[32m━━━━━━━━━━━━━━━━━━━━\u001b[0m\u001b[37m\u001b[0m \u001b[1m45s\u001b[0m 99ms/step - accuracy: 0.8273 - loss: 0.4500 - val_accuracy: 0.5769 - val_loss: 1.7022\n",
      "Epoch 21/50\n",
      "\u001b[1m449/449\u001b[0m \u001b[32m━━━━━━━━━━━━━━━━━━━━\u001b[0m\u001b[37m\u001b[0m \u001b[1m45s\u001b[0m 101ms/step - accuracy: 0.8322 - loss: 0.4321 - val_accuracy: 0.5766 - val_loss: 1.7999\n",
      "Epoch 22/50\n",
      "\u001b[1m449/449\u001b[0m \u001b[32m━━━━━━━━━━━━━━━━━━━━\u001b[0m\u001b[37m\u001b[0m \u001b[1m45s\u001b[0m 100ms/step - accuracy: 0.8464 - loss: 0.4002 - val_accuracy: 0.5750 - val_loss: 1.8989\n",
      "Epoch 23/50\n",
      "\u001b[1m449/449\u001b[0m \u001b[32m━━━━━━━━━━━━━━━━━━━━\u001b[0m\u001b[37m\u001b[0m \u001b[1m45s\u001b[0m 101ms/step - accuracy: 0.8552 - loss: 0.3780 - val_accuracy: 0.5755 - val_loss: 1.9105\n",
      "Epoch 24/50\n",
      "\u001b[1m449/449\u001b[0m \u001b[32m━━━━━━━━━━━━━━━━━━━━\u001b[0m\u001b[37m\u001b[0m \u001b[1m45s\u001b[0m 100ms/step - accuracy: 0.8577 - loss: 0.3693 - val_accuracy: 0.5751 - val_loss: 1.9091\n",
      "Epoch 25/50\n",
      "\u001b[1m449/449\u001b[0m \u001b[32m━━━━━━━━━━━━━━━━━━━━\u001b[0m\u001b[37m\u001b[0m \u001b[1m44s\u001b[0m 98ms/step - accuracy: 0.8650 - loss: 0.3479 - val_accuracy: 0.5695 - val_loss: 2.0276\n",
      "Epoch 26/50\n",
      "\u001b[1m449/449\u001b[0m \u001b[32m━━━━━━━━━━━━━━━━━━━━\u001b[0m\u001b[37m\u001b[0m \u001b[1m44s\u001b[0m 97ms/step - accuracy: 0.8686 - loss: 0.3378 - val_accuracy: 0.5763 - val_loss: 2.1902\n",
      "Epoch 27/50\n",
      "\u001b[1m449/449\u001b[0m \u001b[32m━━━━━━━━━━━━━━━━━━━━\u001b[0m\u001b[37m\u001b[0m \u001b[1m44s\u001b[0m 98ms/step - accuracy: 0.8741 - loss: 0.3186 - val_accuracy: 0.5791 - val_loss: 2.1855\n",
      "Epoch 28/50\n",
      "\u001b[1m449/449\u001b[0m \u001b[32m━━━━━━━━━━━━━━━━━━━━\u001b[0m\u001b[37m\u001b[0m \u001b[1m46s\u001b[0m 103ms/step - accuracy: 0.8796 - loss: 0.3069 - val_accuracy: 0.5780 - val_loss: 2.2134\n",
      "Epoch 29/50\n",
      "\u001b[1m449/449\u001b[0m \u001b[32m━━━━━━━━━━━━━━━━━━━━\u001b[0m\u001b[37m\u001b[0m \u001b[1m45s\u001b[0m 99ms/step - accuracy: 0.8857 - loss: 0.2873 - val_accuracy: 0.5741 - val_loss: 2.4415\n",
      "Epoch 30/50\n",
      "\u001b[1m449/449\u001b[0m \u001b[32m━━━━━━━━━━━━━━━━━━━━\u001b[0m\u001b[37m\u001b[0m \u001b[1m44s\u001b[0m 98ms/step - accuracy: 0.8910 - loss: 0.2794 - val_accuracy: 0.5727 - val_loss: 2.3395\n",
      "Epoch 31/50\n",
      "\u001b[1m449/449\u001b[0m \u001b[32m━━━━━━━━━━━━━━━━━━━━\u001b[0m\u001b[37m\u001b[0m \u001b[1m43s\u001b[0m 96ms/step - accuracy: 0.8871 - loss: 0.2881 - val_accuracy: 0.5692 - val_loss: 2.5193\n",
      "Epoch 32/50\n",
      "\u001b[1m449/449\u001b[0m \u001b[32m━━━━━━━━━━━━━━━━━━━━\u001b[0m\u001b[37m\u001b[0m \u001b[1m44s\u001b[0m 99ms/step - accuracy: 0.8973 - loss: 0.2685 - val_accuracy: 0.5722 - val_loss: 2.4047\n",
      "Epoch 33/50\n",
      "\u001b[1m449/449\u001b[0m \u001b[32m━━━━━━━━━━━━━━━━━━━━\u001b[0m\u001b[37m\u001b[0m \u001b[1m44s\u001b[0m 98ms/step - accuracy: 0.9019 - loss: 0.2557 - val_accuracy: 0.5783 - val_loss: 2.7214\n",
      "Epoch 34/50\n",
      "\u001b[1m449/449\u001b[0m \u001b[32m━━━━━━━━━━━━━━━━━━━━\u001b[0m\u001b[37m\u001b[0m \u001b[1m43s\u001b[0m 97ms/step - accuracy: 0.9040 - loss: 0.2445 - val_accuracy: 0.5727 - val_loss: 2.6768\n",
      "Epoch 35/50\n",
      "\u001b[1m449/449\u001b[0m \u001b[32m━━━━━━━━━━━━━━━━━━━━\u001b[0m\u001b[37m\u001b[0m \u001b[1m43s\u001b[0m 97ms/step - accuracy: 0.9053 - loss: 0.2513 - val_accuracy: 0.5671 - val_loss: 2.5756\n",
      "Epoch 36/50\n",
      "\u001b[1m449/449\u001b[0m \u001b[32m━━━━━━━━━━━━━━━━━━━━\u001b[0m\u001b[37m\u001b[0m \u001b[1m45s\u001b[0m 100ms/step - accuracy: 0.9081 - loss: 0.2381 - val_accuracy: 0.5726 - val_loss: 2.9218\n",
      "Epoch 37/50\n",
      "\u001b[1m449/449\u001b[0m \u001b[32m━━━━━━━━━━━━━━━━━━━━\u001b[0m\u001b[37m\u001b[0m \u001b[1m45s\u001b[0m 99ms/step - accuracy: 0.9107 - loss: 0.2308 - val_accuracy: 0.5720 - val_loss: 2.7716\n",
      "Epoch 38/50\n",
      "\u001b[1m449/449\u001b[0m \u001b[32m━━━━━━━━━━━━━━━━━━━━\u001b[0m\u001b[37m\u001b[0m \u001b[1m44s\u001b[0m 98ms/step - accuracy: 0.9126 - loss: 0.2274 - val_accuracy: 0.5659 - val_loss: 2.6509\n",
      "Epoch 39/50\n",
      "\u001b[1m449/449\u001b[0m \u001b[32m━━━━━━━━━━━━━━━━━━━━\u001b[0m\u001b[37m\u001b[0m \u001b[1m44s\u001b[0m 98ms/step - accuracy: 0.9063 - loss: 0.2414 - val_accuracy: 0.5759 - val_loss: 2.7974\n",
      "Epoch 40/50\n",
      "\u001b[1m449/449\u001b[0m \u001b[32m━━━━━━━━━━━━━━━━━━━━\u001b[0m\u001b[37m\u001b[0m \u001b[1m46s\u001b[0m 101ms/step - accuracy: 0.9101 - loss: 0.2301 - val_accuracy: 0.5667 - val_loss: 3.0422\n",
      "Epoch 41/50\n",
      "\u001b[1m449/449\u001b[0m \u001b[32m━━━━━━━━━━━━━━━━━━━━\u001b[0m\u001b[37m\u001b[0m \u001b[1m45s\u001b[0m 100ms/step - accuracy: 0.9136 - loss: 0.2268 - val_accuracy: 0.5761 - val_loss: 2.8709\n",
      "Epoch 42/50\n",
      "\u001b[1m449/449\u001b[0m \u001b[32m━━━━━━━━━━━━━━━━━━━━\u001b[0m\u001b[37m\u001b[0m \u001b[1m44s\u001b[0m 98ms/step - accuracy: 0.9171 - loss: 0.2144 - val_accuracy: 0.5723 - val_loss: 2.9739\n",
      "Epoch 43/50\n",
      "\u001b[1m449/449\u001b[0m \u001b[32m━━━━━━━━━━━━━━━━━━━━\u001b[0m\u001b[37m\u001b[0m \u001b[1m4207s\u001b[0m 9s/step - accuracy: 0.9153 - loss: 0.2157 - val_accuracy: 0.5698 - val_loss: 3.0915\n",
      "Epoch 44/50\n",
      "\u001b[1m449/449\u001b[0m \u001b[32m━━━━━━━━━━━━━━━━━━━━\u001b[0m\u001b[37m\u001b[0m \u001b[1m44s\u001b[0m 97ms/step - accuracy: 0.9186 - loss: 0.2134 - val_accuracy: 0.5744 - val_loss: 3.1747\n",
      "Epoch 45/50\n",
      "\u001b[1m449/449\u001b[0m \u001b[32m━━━━━━━━━━━━━━━━━━━━\u001b[0m\u001b[37m\u001b[0m \u001b[1m47s\u001b[0m 105ms/step - accuracy: 0.9232 - loss: 0.1962 - val_accuracy: 0.5699 - val_loss: 3.0671\n",
      "Epoch 46/50\n",
      "\u001b[1m449/449\u001b[0m \u001b[32m━━━━━━━━━━━━━━━━━━━━\u001b[0m\u001b[37m\u001b[0m \u001b[1m48s\u001b[0m 106ms/step - accuracy: 0.9205 - loss: 0.2075 - val_accuracy: 0.5763 - val_loss: 3.0060\n",
      "Epoch 47/50\n",
      "\u001b[1m449/449\u001b[0m \u001b[32m━━━━━━━━━━━━━━━━━━━━\u001b[0m\u001b[37m\u001b[0m \u001b[1m46s\u001b[0m 102ms/step - accuracy: 0.9230 - loss: 0.1975 - val_accuracy: 0.5724 - val_loss: 3.1000\n",
      "Epoch 48/50\n",
      "\u001b[1m449/449\u001b[0m \u001b[32m━━━━━━━━━━━━━━━━━━━━\u001b[0m\u001b[37m\u001b[0m \u001b[1m44s\u001b[0m 99ms/step - accuracy: 0.9256 - loss: 0.1968 - val_accuracy: 0.5669 - val_loss: 3.0800\n",
      "Epoch 49/50\n",
      "\u001b[1m449/449\u001b[0m \u001b[32m━━━━━━━━━━━━━━━━━━━━\u001b[0m\u001b[37m\u001b[0m \u001b[1m44s\u001b[0m 98ms/step - accuracy: 0.9270 - loss: 0.1875 - val_accuracy: 0.5681 - val_loss: 3.1215\n",
      "Epoch 50/50\n",
      "\u001b[1m449/449\u001b[0m \u001b[32m━━━━━━━━━━━━━━━━━━━━\u001b[0m\u001b[37m\u001b[0m \u001b[1m46s\u001b[0m 102ms/step - accuracy: 0.9268 - loss: 0.1895 - val_accuracy: 0.5711 - val_loss: 3.1659\n"
     ]
    }
   ],
   "source": [
    "history = model.fit(X_train, y_train, epochs=50, batch_size=64, validation_data=(X_test, y_test))"
   ]
  },
  {
   "cell_type": "code",
   "execution_count": 11,
   "metadata": {},
   "outputs": [
    {
     "name": "stderr",
     "output_type": "stream",
     "text": [
      "WARNING:absl:You are saving your model as an HDF5 file via `model.save()` or `keras.saving.save_model(model)`. This file format is considered legacy. We recommend using instead the native Keras format, e.g. `model.save('my_model.keras')` or `keras.saving.save_model(model, 'my_model.keras')`. \n"
     ]
    }
   ],
   "source": [
    "model.save('cnn_FER2013.h5')"
   ]
  }
 ],
 "metadata": {
  "kernelspec": {
   "display_name": "first_env",
   "language": "python",
   "name": "python3"
  },
  "language_info": {
   "codemirror_mode": {
    "name": "ipython",
    "version": 3
   },
   "file_extension": ".py",
   "mimetype": "text/x-python",
   "name": "python",
   "nbconvert_exporter": "python",
   "pygments_lexer": "ipython3",
   "version": "3.10.13"
  }
 },
 "nbformat": 4,
 "nbformat_minor": 2
}
