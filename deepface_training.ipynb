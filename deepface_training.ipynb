{
 "cells": [
  {
   "cell_type": "code",
   "execution_count": null,
   "metadata": {},
   "outputs": [],
   "source": [
    "import numpy as np\n",
    "import pandas as pd\n",
    "import cv2\n",
    "from sklearn.metrics import accuracy_score, precision_score, recall_score, f1_score\n",
    "from sklearn.preprocessing import LabelEncoder\n",
    "from deepface import DeepFace\n",
    "import matplotlib.pyplot as plt\n",
    "from tqdm import tqdm"
   ]
  },
  {
   "cell_type": "code",
   "execution_count": null,
   "metadata": {},
   "outputs": [],
   "source": [
    "#Loading dataset for the model --> DeepFace\n",
    "data = pd.read_csv('fer2013.csv')"
   ]
  },
  {
   "cell_type": "code",
   "execution_count": null,
   "metadata": {},
   "outputs": [],
   "source": [
    "#Conver pixel coordinates to 2d images\n",
    "def process_image(image):\n",
    "    image = np.fromstring(image, sep=' ')\n",
    "    image = image.reshape(48, 48, 1).astype('uint8')\n",
    "    return image"
   ]
  },
  {
   "cell_type": "code",
   "execution_count": null,
   "metadata": {},
   "outputs": [],
   "source": [
    "# Data elaboration: from 2d images to numpy arrays\n",
    "data['pixels'] = data['pixels'].apply(lambda x: process_image(x))\n",
    "X = np.array(data['pixels'].tolist()) #Insert into training set only predictive attributes\n",
    "y = data['emotion'] #Removing labes from the dataset\n",
    "\n",
    "#Encoding labels\n",
    "label_encoder = LabelEncoder()\n",
    "y_encoded = label_encoder.fit_transform(y)\n",
    "label_classes = label_encoder.classes_"
   ]
  },
  {
   "cell_type": "code",
   "execution_count": null,
   "metadata": {},
   "outputs": [],
   "source": [
    "# Since fer2013 has the emotion labeled as int we must convert them into string to calucate metrics with DeepFace\n",
    "emotion_map = {\n",
    "    0: 'angry',\n",
    "    1: 'disgust',\n",
    "    2: 'fear',\n",
    "    3: 'happy',\n",
    "    4: 'sad',\n",
    "    5: 'surprise',\n",
    "    6: 'neutral'\n",
    "}\n",
    "\n",
    "inverse_emotion_map = {v: k for k, v in emotion_map.items()}"
   ]
  },
  {
   "cell_type": "code",
   "execution_count": null,
   "metadata": {},
   "outputs": [],
   "source": [
    "y_pred = []\n",
    "\n",
    "#Foreach image in the dataset we parse it to deepface and calculate the emotion of the face\n",
    "for i in tqdm(range(len(X)), desc=\"Processing images\"):\n",
    "    img = X[i]\n",
    "    img_rgb = cv2.cvtColor(img, cv2.COLOR_GRAY2RGB)\n",
    "    result = DeepFace.analyze(img_rgb, actions=['emotion'], enforce_detection=False)\n",
    "    emotion = result[0]\n",
    "    y_pred.append(emotion['dominant_emotion'])\n",
    "\n",
    "#We eliminated the unknonw labels\n",
    "valid_indices = [i for i in range(len(y_pred)) if y_pred[i] in inverse_emotion_map]\n",
    "y_encoded_filtered = y_encoded[valid_indices]\n",
    "y_pred_filtered = [y_pred[i] for i in valid_indices]\n",
    "\n",
    "#Ecoding of preditions\n",
    "y_pred_encoded = [inverse_emotion_map[emotion] for emotion in y_pred_filtered]\n",
    "\n",
    "#Metric calculation\n",
    "accuracy = accuracy_score(y_encoded_filtered, y_pred_encoded)\n",
    "precision = precision_score(y_encoded_filtered, y_pred_encoded, average='weighted')\n",
    "recall = recall_score(y_encoded_filtered, y_pred_encoded, average='weighted')\n",
    "f1 = f1_score(y_encoded_filtered, y_pred_encoded, average='weighted')\n",
    "\n",
    "print(f\"ACCURACY: {accuracy}\")\n",
    "print(f\"PRECISION: {precision}\")\n",
    "print(f\"RECALL: {recall}\")\n",
    "print(f\"F1/SCORE: {f1}\")"
   ]
  }
 ],
 "metadata": {
  "kernelspec": {
   "display_name": "first_env",
   "language": "python",
   "name": "python3"
  },
  "language_info": {
   "codemirror_mode": {
    "name": "ipython",
    "version": 3
   },
   "file_extension": ".py",
   "mimetype": "text/x-python",
   "name": "python",
   "nbconvert_exporter": "python",
   "pygments_lexer": "ipython3",
   "version": "3.10.13"
  }
 },
 "nbformat": 4,
 "nbformat_minor": 2
}
